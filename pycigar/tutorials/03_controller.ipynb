{
 "cells": [
  {
   "cell_type": "markdown",
   "metadata": {},
   "source": [
    "# Tutorial 03: Adding new controllers to PyCIGAR\n",
    "\n",
    "This tutorial walks through the process of adding a new controller to PyCIGAR.\n",
    "\n",
    "Keypoints: environment, controller."
   ]
  },
  {
   "cell_type": "markdown",
   "metadata": {},
   "source": [
    "## 1. Add a new controller checklist\n",
    "To add a new controller, you need to:\n",
    "- Add a controller definition with the interface similar to `pycigar/controllers/base_controller.py`.\n",
    "- Run and test the new controller."
   ]
  },
  {
   "cell_type": "markdown",
   "metadata": {},
   "source": [
    "## 2. Environment\n",
    "\n",
    "In the last tutorial, we learned how to run the simulation 1 step forward using kernel. In this tutorial, we will learn how to create environment, a standard interface to all experiment.\n",
    "\n",
    "An environment has these methods:\n",
    "- `reset()`: reset the experiment.\n",
    "- `step()`: step the experiment 1 step forward (an environment step can be equivalent to `k` simulation step)."
   ]
  },
  {
   "cell_type": "code",
   "execution_count": 3,
   "metadata": {},
   "outputs": [],
   "source": [
    "import numpy as np\n",
    "from pycigar.core.kernel.kernel import Kernel\n",
    "import yaml\n",
    "\n",
    "class FooEnv:\n",
    "    def __init__(self, sim_params, simulator='opendss'):\n",
    "        \"\"\"Initialize the environment.\n",
    "\n",
    "        Parameters\n",
    "        ----------\n",
    "        sim_params : dict\n",
    "            A dictionary of simulation information.\n",
    "        simulator : str\n",
    "            The name of simulator we want to use, by default it is OpenDSS.\n",
    "        \"\"\"\n",
    "        self.state = None\n",
    "        self.simulator = simulator\n",
    "\n",
    "        # initialize the kernel\n",
    "        self.k = Kernel(simulator=self.simulator,\n",
    "                        sim_params=sim_params)\n",
    "\n",
    "        # start an instance of the simulator (ex. OpenDSS)\n",
    "        kernel_api = self.k.simulation.start_simulation()\n",
    "        # pass the API to all sub-kernels\n",
    "        self.k.pass_api(kernel_api)\n",
    "        # start the corresponding scenario\n",
    "        # self.k.scenario.start_scenario()\n",
    "\n",
    "\n",
    "\n",
    "    def step(self):\n",
    "        \"\"\"See parent class.\n",
    "        \"\"\"\n",
    "\n",
    "        for _ in range(self.sim_params['env_config'][\"sims_per_step\"]):\n",
    "            self.env_time += 1\n",
    "\n",
    "            # perform action update for PV inverter device\n",
    "            if len(self.k.device.get_pv_device_ids()) > 0:\n",
    "                control_setting = []\n",
    "                for device_id in self.k.device.get_pv_device_ids():\n",
    "                    action = self.k.device.get_controller(device_id).get_action(self)\n",
    "                    control_setting.append(action)\n",
    "                self.k.device.apply_control(self.k.device.get_pv_device_ids(), control_setting)\n",
    "\n",
    "\n",
    "            if self.k.time <= self.k.t:\n",
    "                self.k.update(reset=False)\n",
    "\n",
    "                # check whether the simulator sucessfully solved the powerflow\n",
    "                converged = self.k.simulation.check_converged()\n",
    "                if not converged:\n",
    "                    break\n",
    "\n",
    "            if self.k.time >= self.k.t:\n",
    "                break\n",
    "\n",
    "        # the episode will be finished if it is not converged.\n",
    "        done = not converged or (self.k.time == self.k.t)\n",
    "\n",
    "        return done\n",
    "\n",
    "    def reset(self):\n",
    "        self.env_time = 0\n",
    "        self.k.update(reset=True)\n",
    "        self.sim_params = self.k.sim_params\n",
    "\n",
    "        self.INIT_ACTION = {}\n",
    "        pv_device_ids = self.k.device.get_pv_device_ids()\n",
    "        for device_id in pv_device_ids:\n",
    "            self.INIT_ACTION[device_id] = np.array(self.k.device.get_control_setting(device_id))\n",
    "\n",
    "stream = open(\"./data/pycigar_config.yaml\", \"r\")\n",
    "sim_params = yaml.safe_load(stream)"
   ]
  },
  {
   "cell_type": "code",
   "execution_count": 4,
   "metadata": {},
   "outputs": [],
   "source": [
    "env = FooEnv(sim_params)\n",
    "env.reset()\n",
    "done = False\n",
    "while not done:\n",
    "    done = env.step()"
   ]
  },
  {
   "cell_type": "markdown",
   "metadata": {},
   "source": [
    "## 3. Controller"
   ]
  },
  {
   "cell_type": "markdown",
   "metadata": {},
   "source": [
    "In the `step()` methods above, we update the devices settings given by controllers. In PyCIGAR concept, one device can have 1 or more controllers. Base on the state of the environment and the device, a controller can give a *recommendation* control setting on the device, however, applying that control setting or not depends on how our choice. \n",
    "\n",
    "We can get the recommendation control setting from a controller by methods `get_action()` implemented in controller:\n",
    "```action = self.k.device.get_controller(device_id).get_action(self)```\n",
    "\n",
    "Apply the control settings on list of devices with:\n",
    "```self.k.device.apply_control(self.k.device.get_pv_device_ids(), control_setting)```\n"
   ]
  },
  {
   "cell_type": "code",
   "execution_count": null,
   "metadata": {},
   "outputs": [],
   "source": []
  }
 ],
 "metadata": {
  "interpreter": {
   "hash": "8a4cdddff18b0d6723687fe34cb800d74ded99e3c7a493e629ab823f8641f7d6"
  },
  "kernelspec": {
   "display_name": "Python 3.7.6 64-bit ('pycigar': conda)",
   "language": "python",
   "name": "python3"
  },
  "language_info": {
   "codemirror_mode": {
    "name": "ipython",
    "version": 3
   },
   "file_extension": ".py",
   "mimetype": "text/x-python",
   "name": "python",
   "nbconvert_exporter": "python",
   "pygments_lexer": "ipython3",
   "version": "3.7.6"
  },
  "orig_nbformat": 2
 },
 "nbformat": 4,
 "nbformat_minor": 2
}
