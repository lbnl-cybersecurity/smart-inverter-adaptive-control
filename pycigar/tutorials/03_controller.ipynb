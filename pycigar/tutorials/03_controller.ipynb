{
 "cells": [
  {
   "cell_type": "markdown",
   "metadata": {},
   "source": [
    "# Tutorial 03: Adding new controllers to PyCIGAR\n",
    "\n",
    "This tutorial walks through the process of adding a new controller to PyCIGAR.\n",
    "\n",
    "Keypoints: environment, controller."
   ]
  },
  {
   "cell_type": "markdown",
   "metadata": {},
   "source": [
    "## 1. Add a new controller checklist\n",
    "To add a new controller, you need to:\n",
    "- Add a controller definition with the interface similar to `pycigar/controllers/base_controller.py`.\n",
    "- Run and test the new controller."
   ]
  },
  {
   "cell_type": "markdown",
   "metadata": {},
   "source": [
    "## 2. Environment\n",
    "\n",
    "In the last tutorial, we learned how to run the simulation 1 step forward using kernel. In this tutorial, we will learn how to create environment, a standard interface to all experiment.\n",
    "\n",
    "An environment has these methods:\n",
    "- `reset()`: reset the experiment.\n",
    "- `step()`: step the experiment 1 step forward (an environment step can be equivalent to `k` simulation step).\n",
    "\n",
    "The return of `reset()` is observation, and `step()` is a tuple of `(observation, reward, done, info)` as explained below:\n",
    "- observation: the observation of the environment that the RL agent can observe to act upon in the next environment step.\n",
    "- reward: the reward that the RL agent received because of its action in this environment step.\n",
    "- done: whether the environment is finished.\n",
    "- info: additional infomation from environment. This is optional.\n",
    "\n",
    "For the purpose of this tutorial, we are not going to have any RL agent(s). The values of observation, reward, done, info are dummy values."
   ]
  },
  {
   "cell_type": "code",
   "execution_count": 1,
   "metadata": {},
   "outputs": [],
   "source": [
    "from pycigar.envs import Env\n",
    "import yaml\n",
    "\n",
    "class FooEnv(Env):\n",
    "    @property\n",
    "    def observation_space(self):\n",
    "        return Box(low=-float('inf'), high=float('inf'),\n",
    "                   shape=(5,), dtype=np.float64)\n",
    "\n",
    "    @property\n",
    "    def action_space(self):\n",
    "        return Box(low=0.5, high=1.5, shape=(5,), dtype=np.float64)\n",
    "\n",
    "    def step(self, rl_actions=None, randomize_rl_update=None):\n",
    "        \"\"\"See parent class.\n",
    "        \"\"\"\n",
    "\n",
    "        for _ in range(self.sim_params['env_config'][\"sims_per_step\"]):\n",
    "            self.env_time += 1\n",
    "            \n",
    "            # perform action update for PV inverter device\n",
    "            if len(self.k.device.get_adaptive_device_ids()) > 0:\n",
    "                control_setting = []\n",
    "                for device_id in self.k.device.get_adaptive_device_ids():\n",
    "                    action = self.k.device.get_controller(device_id).get_action(self)\n",
    "                    control_setting.append(action)\n",
    "                self.k.device.apply_control(self.k.device.get_adaptive_device_ids(), control_setting)\n",
    "\n",
    "            # perform action update for PV inverter device\n",
    "            if len(self.k.device.get_fixed_device_ids()) > 0:\n",
    "                control_setting = []\n",
    "                for device_id in self.k.device.get_fixed_device_ids():\n",
    "                    action = self.k.device.get_controller(device_id).get_action(self)\n",
    "                    control_setting.append(action)\n",
    "                self.k.device.apply_control(self.k.device.get_fixed_device_ids(), control_setting)\n",
    "\n",
    "            self.additional_command()\n",
    "\n",
    "            if self.k.time <= self.k.t:\n",
    "                self.k.update(reset=False)\n",
    "\n",
    "                # check whether the simulator sucessfully solved the powerflow\n",
    "                converged = self.k.simulation.check_converged()\n",
    "                if not converged:\n",
    "                    break\n",
    "\n",
    "            if self.k.time >= self.k.t:\n",
    "                break\n",
    "\n",
    "        # the episode will be finished if it is not converged.\n",
    "        done = not converged or (self.k.time == self.k.t)\n",
    "        obs = self.get_state()\n",
    "        infos = {}\n",
    "        reward = self.compute_reward(rl_actions)\n",
    "\n",
    "        return obs, reward, done, infos\n",
    "\n",
    "    def get_state(self):\n",
    "        return [0, 0, 0, 0, 0]\n",
    "\n",
    "    def compute_reward(self, rl_actions, **kwargs):\n",
    "        return 0\n",
    "\n",
    "stream = open(\"./data/pycigar_config.yaml\", \"r\")\n",
    "sim_params = yaml.safe_load(stream)"
   ]
  },
  {
   "cell_type": "code",
   "execution_count": 2,
   "metadata": {},
   "outputs": [],
   "source": [
    "env = FooEnv(sim_params)\n",
    "env.reset()\n",
    "done = False\n",
    "while not done:\n",
    "    _, _, done, _ = env.step()"
   ]
  },
  {
   "cell_type": "markdown",
   "metadata": {},
   "source": [
    "## 3. Controller"
   ]
  },
  {
   "cell_type": "markdown",
   "metadata": {},
   "source": [
    "In the `step()` methods above, we update the devices settings given by controllers. In PyCIGAR concept, one device can have 1 or more controllers. Base on the state of the environment and the device, a controller can give a *recommendation* control setting on the device, however, applying that control setting or not depends on how our choice. \n",
    "\n",
    "We can get the recommendation control setting from a controller by methods `get_action()` implemented in controller:\n",
    "```action = self.k.device.get_controller(device_id).get_action(self)```\n",
    "\n",
    "Apply the control settings on list of devices with:\n",
    "```self.k.device.apply_control(self.k.device.get_adaptive_device_ids(), control_setting)```\n"
   ]
  },
  {
   "cell_type": "code",
   "execution_count": null,
   "metadata": {},
   "outputs": [],
   "source": []
  }
 ],
 "metadata": {
  "language_info": {
   "codemirror_mode": {
    "name": "ipython",
    "version": 3
   },
   "file_extension": ".py",
   "mimetype": "text/x-python",
   "name": "python",
   "nbconvert_exporter": "python",
   "pygments_lexer": "ipython3",
   "version": "3.7.6-final"
  },
  "orig_nbformat": 2,
  "kernelspec": {
   "name": "python37664bitpycigarcondaa2083d76d007443d8f9fd78ed773e7a0",
   "display_name": "Python 3.7.6 64-bit ('pycigar': conda)"
  }
 },
 "nbformat": 4,
 "nbformat_minor": 2
}