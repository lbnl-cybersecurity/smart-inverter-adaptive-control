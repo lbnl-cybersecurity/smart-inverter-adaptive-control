{
 "cells": [
  {
   "cell_type": "markdown",
   "metadata": {},
   "source": [
    "# Tutorial 02: Adding new devices to PyCIGAR\n",
    "\n",
    "This tutorial walks through the process of adding a new device to PyCIGAR.\n",
    "\n",
    "Keypoints: device, kernel device."
   ]
  },
  {
   "cell_type": "markdown",
   "metadata": {},
   "source": [
    "## 1. Add a new device checklist\n",
    "To add a new device, you need to:\n",
    "- Add a device definition with the interface similar to `pycigar/devices/base_device.py`.\n",
    "- Add a logic function to `device_kernel.add()` with the new device.\n",
    "- Run and test the new device."
   ]
  },
  {
   "cell_type": "markdown",
   "metadata": {},
   "source": [
    "## 2. Walk through PV Device implementation\n",
    "\n",
    "Let's walk through PV Device definition together. \n",
    "\n",
    "### Add device definition\n",
    "\n",
    "There are 2 essential functions that you need to implement:\n",
    "- `update(k)`\n",
    "- `reset()`\n",
    "\n",
    "`Update()` is the logic of the device when we run forward 1 simulation step. In the case of PV Device, we caculate the P, Q value and add them to the node where the device is connected to. The update() function receive kernel `k` as parameter. With `k`, you can access to any information you want (`k.node`, `k.device`, `k.scenario`...). \n",
    "\n",
    "`reset()` clears all information from the last simulation of the device.\n",
    "\n",
    "### Add device to `device_kernel.add()`\n",
    "`Device kernel` keeps track of devices in the grid and `device_kernel.devices` is a dictionary of `device_id` and a dictionary of device object and controller object on that device.\n",
    "\n",
    "```python\n",
    "{'device_id': {\n",
    "    'device': device_obj,\n",
    "    'controller': controller_obj, #optional\n",
    "    'node_id': 'node_that_device_connected_to' #optional\n",
    "    }\n",
    "}\n",
    "```\n",
    "\n",
    "To add `RegulatorDevice` to `device_kernel.add()`, refer to [here](https://github.com/lbnl-cybersecurity/ceds-cigar/blob/toan_dev/pycigar/core/kernel/device/opendss.py#L120). "
   ]
  },
  {
   "cell_type": "code",
   "execution_count": null,
   "metadata": {},
   "outputs": [],
   "source": []
  }
 ],
 "metadata": {
  "language_info": {
   "codemirror_mode": {
    "name": "ipython",
    "version": 3
   },
   "file_extension": ".py",
   "mimetype": "text/x-python",
   "name": "python",
   "nbconvert_exporter": "python",
   "pygments_lexer": "ipython3",
   "version": "3.7.6-final"
  },
  "orig_nbformat": 2,
  "kernelspec": {
   "name": "python37664bitpycigarcondaa2083d76d007443d8f9fd78ed773e7a0",
   "display_name": "Python 3.7.6 64-bit ('pycigar': conda)"
  }
 },
 "nbformat": 4,
 "nbformat_minor": 2
}