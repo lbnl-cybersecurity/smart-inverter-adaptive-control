{
 "cells": [
  {
   "cell_type": "markdown",
   "metadata": {},
   "source": [
    "# Tutorial 00: PyCIGAR\n",
    "\n",
    "This tutorial shows you the high-level overview of PyCIGAR and how it works. This tutorial is highly recommended before you dive into the next tutorial.\n",
    "\n",
    "RL: reinforcement learning. \n",
    "\n"
   ]
  },
  {
   "cell_type": "markdown",
   "metadata": {},
   "source": [
    "## 1. High-level of PyCIGAR\n",
    "\n",
    "PyCIGAR is a connection between grid simulators (OpenDSS, GridLab-D,...) and the scalable RL library RLlib. PyCIGAR formalises grid control problem as a RL problem and provides environments to conduct a variety of RL experiments without concern about the difference between grid simulators and scaling up RL experiments.    \n",
    "\n",
    "### Running PyCIGAR without training\n",
    "\n",
    "To run PyCIGAR, you need a feeder and load-solar profiles on different nodes on that feeders.\n",
    "- Distribution feeder: a distribution feeder definition to feed to grid simulator.\n",
    "- Load/solar generation profiles: `.csv` file of load and solar generation profiles.\n",
    "  \n",
    "In this tutorial, we use a 3-node feeder sample and load-solar profiles in `pycigar/tutorials/data/` to understand the concept of PyCIGAR.\n",
    "- `ieee3.dss` contains the configuration of 3-Bus feeder (source bus, loads,...).\n",
    "- `load_solar_data.csv` contains load, solar profiles of the 3-Bus feeder. The headers S701a, S701b, S701c denote the load profiles at those feeders. The headers S701a_pv, S701b_pv, S701c_pv denote the solar profiles at those feeders.\n",
    "\n",
    "You can run a simulation on this network without doing any training, in this case you won't need a \"RL environment\". After you finish this tutorial, we will move forward to create RL environments, train your own agents and visualize the results.\n",
    "\n",
    "### Running PyCIGAR with training\n",
    "\n",
    "In order to get started and train agent(s) to control devices in the electrical grid, you will need:\n",
    "\n",
    "\n",
    "- The RL environment is a class that allows you to \n",
    "  - A **state space**\n",
    "  - An **action space**\n",
    "  - A **reward function**"
   ]
  },
  {
   "cell_type": "markdown",
   "metadata": {},
   "source": [
    "## 2. Codebase structure\n",
    "The `pycigar` codebase directory is structured as follows:\n",
    "\n",
    "```python\n",
    "pycigar\n",
    "├── docs  # pycigar code documentation\n",
    "├── controllers  # controller definitions, your logic on how to change a device configurations goes to here.\n",
    "├── devices  # device definitions, with a given configuration, calculate the output of the device at a given timestep. (e.g. inverter: base on breakpoints (configuration), how much power and reactive power output of the inverter).\n",
    "├── core  # the core logic of the code -- where the magic happens\n",
    "│   └── kernel\n",
    "│       ├── device  # a manager to coordinate the devices\n",
    "│       ├── node  # a manager to coordinate the nodes\n",
    "│       ├── scenario  # a manager to gather and distribute information \n",
    "│       └── simulation  # a manager to create and manage the simulator\n",
    "├── envs  # environments (where states, actions and rewards are handled)\n",
    "│   └── multiagent  # multi-agent environments\n",
    "│   └── wrappers  # environment wrappers, wrappers used to change the output of either action, observation or reward of the base environment\n",
    "├── data  # contain data for different experiments (e.g. opendss files, load-solar profiles,...)\n",
    "├── examples # a lot of outdated examples using PyCIGAR -- this is NOT where you want to head once you finish the tutorials\n",
    "├── notebooks # scripts to run RL experiments. Eventually it needs to merge with examples/\n",
    "├── utils  # contain helper tools for pycigar (e.g. simulation history logger, visualization,...)\n",
    "    └── opendss # contain the API of PyCIGAR to interact with opendss object\n",
    "├── tests  # unit tests (currently empty, under construction)\n",
    "└── tutorials  # <-- you are here\n",
    "```\n",
    "\n",
    "Don't hesitate to go and read the code files directly! We try to keep everything documented and understandable."
   ]
  }
 ],
 "metadata": {
  "kernelspec": {
   "display_name": "Python 3",
   "language": "python",
   "name": "python3"
  },
  "language_info": {
   "codemirror_mode": {
    "name": "ipython",
    "version": 3
   },
   "file_extension": ".py",
   "mimetype": "text/x-python",
   "name": "python",
   "nbconvert_exporter": "python",
   "pygments_lexer": "ipython3",
   "version": "3.7.6-final"
  }
 },
 "nbformat": 4,
 "nbformat_minor": 2
}