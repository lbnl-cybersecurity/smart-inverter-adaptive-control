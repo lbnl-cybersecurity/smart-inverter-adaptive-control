{
 "cells": [
  {
   "cell_type": "markdown",
   "metadata": {},
   "source": [
    "# Add custom devices, controllers"
   ]
  },
  {
   "cell_type": "markdown",
   "metadata": {},
   "source": [
    "To add custom devices or controllers, you can pair the device/controller class to a name then use it in the parser using `register_devcon`."
   ]
  },
  {
   "cell_type": "code",
   "execution_count": null,
   "metadata": {},
   "outputs": [],
   "source": [
    "from pycigar.utils.registry import register_devcon\n",
    "from pycigar.controllers.MRAC_adaptive_controller import MRAC_adaptive_controller\n",
    "register_devcon('Defender', MRAC_adaptive_controller)"
   ]
  }
 ],
 "metadata": {
  "kernelspec": {
   "display_name": "Python 3.7.6 64-bit ('pycigar-adapt': conda)",
   "metadata": {
    "interpreter": {
     "hash": "fe324c843e61b47a44fe2ebe1a31a4250299c131ad15a7759817e0e7de14d6b7"
    }
   },
   "name": "python3"
  },
  "language_info": {
   "codemirror_mode": {
    "name": "ipython",
    "version": 3
   },
   "file_extension": ".py",
   "mimetype": "text/x-python",
   "name": "python",
   "nbconvert_exporter": "python",
   "pygments_lexer": "ipython3",
   "version": "3.7.6-final"
  },
  "orig_nbformat": 2
 },
 "nbformat": 4,
 "nbformat_minor": 2
}
