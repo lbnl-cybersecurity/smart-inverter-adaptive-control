{
 "cells": [
  {
   "cell_type": "markdown",
   "metadata": {},
   "source": [
    "# Tutorial 01: Running OpenDSS Simulations\n",
    "\n",
    "This tutorial walks through the process of running non-RL grid simulations in PyCIGAR.\n",
    "\n",
    "Keypoints: kernel, PyCIGAR API, run a simulation step."
   ]
  },
  {
   "cell_type": "markdown",
   "metadata": {},
   "source": [
    "## 0. OpenDSS\n",
    "\n",
    "OpenDSS is an electric power Distribution System Simulator (DSS) for supporting distributed resource integration and grid modernization efforts.\n",
    "\n",
    "PyCIGAR uses OpenDSS as a grid simulator. We use the OpenDSSDirect, a OpenDSS Python API to interact with OpenDSS. A documentation can be found [here](http://dss-extensions.org/OpenDSSDirect.py/). Below is a sample code interacting with OpenDSS through OpenDSSDirect."
   ]
  },
  {
   "cell_type": "code",
   "execution_count": 1,
   "metadata": {},
   "outputs": [
    {
     "output_type": "stream",
     "name": "stdout",
     "text": "['s701a', 's702a', 's703a']\n"
    }
   ],
   "source": [
    "import opendssdirect as dss\n",
    "# load the pre-defined grid to opendss, we use the grid sample in /pycigar/tutorials/data/ieee3.dss\n",
    "# this grid is really simple and only contains 3 loads for the purpose of demonstration\n",
    "dss.run_command(\"Redirect ./data/ieee3.dss\")\n",
    "\n",
    "# get the list of load names to see if the grid is loaded sucessfully\n",
    "print(dss.Loads.AllNames())"
   ]
  },
  {
   "cell_type": "markdown",
   "metadata": {},
   "source": [
    "In the code above, we import `opendssdirect` library, load the pre-defined grid to `opendss` and get a list of all the loads in the grid. More modules [here](http://dss-extensions.org/OpenDSSDirect.py/opendssdirect.html).\n",
    "\n",
    "> **Note**: we import `opendssdirect` and call functions from it instead of creating an opendss object and interact with that opendss object **(!)**. As declaring by `opendssdirect`, it is an interface to opendss. This implies that if anywhere in the code we import the opendssdirect again (assume on the same computer process), we would get the interface and interact with the same opendss object. Because of this implementation, to have 2 distinct opendss instances, we need to create 2 distinct processes and call `opendssdirect` on these processes. \n",
    "\n",
    "> Each PyCIGAR environment requires 1 grid solver (opendss). Because we could not create multiple opendss objects on the same process, therefore each PyCIGAR environment has to create on a separate process. Most of the time, if you do not intend to train RL agent(s), you should not have to worry about creating multiple environments. "
   ]
  },
  {
   "cell_type": "markdown",
   "metadata": {},
   "source": [
    "## 1. Components of PyCIGAR\n",
    "### Kernel\n",
    "In all simulations of PyCIGAR, the high-level process is:\n",
    "\n",
    "1. Initialize components (e.g. controllers, devices, nodes,...)\n",
    "2. Run components\n",
    "3. Update components' values to the simulator (e.g. new load value at a node)\n",
    "4. Run the simulator (e.g. opendss)\n",
    "5. Update components (with new values from the simulator e.g. voltages,...)\n",
    "6. Back to step 2 until finish     \n",
    "     \n",
    "We need a central object to cordinate the process, it is responsible for all major activities in PyCIGAR. The central object is called `Kernel`. The `Kernel` has 4 `sub-kernels`:\n",
    "- `Simulation kernel`: manage the interaction with simulator. The Simulation kernel returns the PyCIGAR API to interact with the simulator. \n",
    "- `Device kernel`: manage all the devices in the grid. The Device kernel has a dictionary of devices in the grid: the device, the node that the device is connected to, and controllers that control the device. Each device is given a `device_id`.  \n",
    "- `Node kernel`: manage all the nodes in the grid. The Node kernel has a dictionary of nodes in the grid: the voltage profile at the node, the load profile at the node and the power, reactive power injection at a timestep. Each node is given a `node_id` (`node_id` is the same as load name in OpenDSS).\n",
    "- `Scenario kernel`: manage dynamical change at the beginning or during the simulation. For example, Scenario kernel change the load and solar profiles at the beginning if the simulation, update the controllers to enable hack at an inverter.  \n",
    "\n",
    "The code below shows how to create a `Kernel`."
   ]
  },
  {
   "cell_type": "code",
   "execution_count": 1,
   "metadata": {},
   "outputs": [],
   "source": [
    "from pycigar.core.kernel.kernel import Kernel\n",
    "\n",
    "k = Kernel(simulator=\"opendss\", sim_params=None)\n",
    "\n",
    "# get the 4 sub-kernels\n",
    "k_simulation = k.simulation\n",
    "k_scenario = k.scenario\n",
    "k_node = k.node\n",
    "k_device = k.device\n",
    "#####################################\n",
    "# get the kernel from the sub-kernels\n",
    "#these functions below should return the same kernel object\n",
    "k1 = k_simulation.master_kernel\n",
    "k2 = k_scenario.master_kernel\n",
    "k3 = k_node.master_kernel\n",
    "k4 = k_device.master_kernel\n",
    "\n",
    "# assert that we get the same kernel object\n",
    "assert(k1 == k2 == k3 == k4)"
   ]
  },
  {
   "cell_type": "markdown",
   "metadata": {},
   "source": [
    "In the code above, we [instantiate a kernel object `k`](https://github.com/lbnl-cybersecurity/ceds-cigar/blob/toan_dev/pycigar/core/kernel/kernel.py#L44) with simulator \"opendss\". The kernel invoke 4 sub-kernels we mentioned above. From the sub-kernels, we can get the kernel by attibute [`master_kernel`](https://github.com/lbnl-cybersecurity/ceds-cigar/blob/toan_dev/pycigar/core/kernel/simulation/base.py#L8).  "
   ]
  },
  {
   "cell_type": "markdown",
   "metadata": {},
   "source": [
    "### PyCIGAR API\n",
    "Even though OpenDSSDirect is the API to interact with OpenDSS, PyCIGAR provides PyCIGAR API to interact with the OpenDSS through OpenDSSDirect. The purpose is to standarize the API call across PyCIGAR so we could intergrate new simulator API quickly by wrapping the new simulator API with PyCIGAR API. To get the PyCIGAR API for OpenDSS:"
   ]
  },
  {
   "cell_type": "code",
   "execution_count": 2,
   "metadata": {},
   "outputs": [],
   "source": [
    "kernel_api = k.simulation.start_simulation()"
   ]
  },
  {
   "cell_type": "markdown",
   "metadata": {},
   "source": [
    "The `kernel_api` is an object define [here](https://github.com/lbnl-cybersecurity/ceds-cigar/blob/toan_dev/pycigar/utils/opendss/pseudo_api.py). We need to pass the `kernel_api` to 4 sub-kernels, so they could get and set information from OpenDSS."
   ]
  },
  {
   "cell_type": "code",
   "execution_count": 3,
   "metadata": {},
   "outputs": [],
   "source": [
    "k_simulation.pass_api(kernel_api)\n",
    "k_scenario.pass_api(kernel_api)\n",
    "k_node.pass_api(kernel_api)\n",
    "k_device.pass_api(kernel_api)\n",
    "\n",
    "# or just simply call \n",
    "k.pass_api(kernel_api)"
   ]
  },
  {
   "cell_type": "markdown",
   "metadata": {},
   "source": [
    "We have instantiated kernel, get PyCIGAR API to interact with OpenDSS. In the next step, we initialise the experiment:\n",
    "- Load pre-defined grid `.dss` to OpenDSS\n",
    "- Add nodes to `Node kernel`.\n",
    "- Add devices with controllers to `Device kernel`.\n",
    "- Change the load-solar profiles on nodes with `Scenario kernel`."
   ]
  },
  {
   "cell_type": "code",
   "execution_count": 4,
   "metadata": {},
   "outputs": [
    {
     "output_type": "stream",
     "name": "stdout",
     "text": "List of nodes in the grid: ['s701a', 's702a', 's703a']\nList of devices in the grid: ['pv_1', 'adversary_pv_1']\nLoad profile at node s701a: [233.67400227 233.5913791  233.61601926]\nSolar profile at device pv_1: [96.94761022 97.03513774 97.1306978 ]\n"
    }
   ],
   "source": [
    "# load pre-defined grid .dss to OpenDSS\n",
    "dir_opendss = \"./data/ieee3.dss\"\n",
    "kernel_api.simulation_command(\"Redirect \" + dir_opendss)\n",
    "\n",
    "\n",
    "##############################\n",
    "## add nodes to Node kernel ##\n",
    "##############################\n",
    "# Node kernel uses kernel_api to get a list of node names from OpenDSS\n",
    "# then create a dictionary of node_ids to track info on these nodes.\n",
    "# https://github.com/lbnl-cybersecurity/ceds-cigar/blob/toan_dev/pycigar/core/kernel/node/opendss.py#L19\n",
    "k_node.start_nodes()    \n",
    "# check if we start the Node kernel successfully\n",
    "print(\"List of nodes in the grid: {}\".format(list(k_node.nodes.keys())))\n",
    "\n",
    "\n",
    "#############################\n",
    "## start the Device kernel ##\n",
    "#############################\n",
    "k_device.start_device()\n",
    "# add a device to a node #\n",
    "# Let's add a new device with device_id is pv_1, connect to the node s701a\n",
    "# the type of device is PVDevice\n",
    "# the controller of this device is AdaptiveInverterController\n",
    "# no hack\n",
    "from pycigar.devices import PVDevice\n",
    "from pycigar.controllers import FixedController\n",
    "\n",
    "adv_id = k_device.add(name='pv_1', connect_to='s701a', device=(PVDevice, {}), controller=(FixedController, {'default_control_setting':[1.00, 1.01, 1.01, 1.02, 1.04]}), adversary_controller=None, hack=None) \n",
    "# the k_device.add() always return an adversarial id because of code convention\n",
    "# this adv_id will be used later to keep track the dictionary of hack time \n",
    "# PyCIGAR always add a adversarial device beside the device you add, if there is no hack, the percentage is 0\n",
    "\n",
    "# check if we add a device successfully\n",
    "print(\"List of devices in the grid: {}\".format(list(k_device.devices.keys())))\n",
    "\n",
    "\n",
    "###########################################################\n",
    "## add load-solar profiles to nodes with Scenario kernel ##\n",
    "###########################################################\n",
    "# k_scenario.change_load_profile() will add the load profiles to nodes\n",
    "# k_scenario.change_load_profile() will distribute solar profiles to devices according to it percentage control\n",
    "# https://github.com/lbnl-cybersecurity/ceds-cigar/blob/toan_dev/pycigar/core/kernel/scenario/opendss.py#L210\n",
    "dir_load_solar = \"./data/load_solar_data.csv\"\n",
    "k_scenario.change_load_profile(start_time=100, end_time=500, network_data_directory_path=dir_load_solar)\n",
    "\n",
    "# check if load profiles are loaded to nodes\n",
    "sample_node = k_node.get_node_ids()[0] # get a sample node\n",
    "print(\"Load profile at node {}: {}\".format(sample_node, k_node.nodes[sample_node][\"load\"][:3]))\n",
    "\n",
    "# check if solar profiles are loaded to devices\n",
    "sample_device = k_device.get_pv_device_ids()[0]\n",
    "print(\"Solar profile at device {}: {}\".format(sample_device, k_device.devices[sample_device][\"device\"].solar_generation[:3]))"
   ]
  },
  {
   "cell_type": "markdown",
   "metadata": {},
   "source": [
    "Next, let's run the experiment 1 step forward.\n",
    "\n",
    "When we call update() on the `Kernel`, it will call update() function on the 4 `sub-kernels`:\n",
    "\n",
    "1. `Device kernel` loops through devices and call update to devices, which will update its internal state. For the case of PV inverter, it will inject P (power) and Q (reactive power) to the node that the device is connected to.\n",
    "2. `Node kernel` loops through nodes and update the load values at the nodes on OpenDSS through PyCIGAR API call.\n",
    "3. `Simulation kernel` commands OpenDSS to run 1 step forward through PyCIGAR API call.\n",
    "4. `Scenario kernel` collects information from OpenDSS through PyCIGAR API call (e.g. new voltage...) and update nodes, preparing for the next update loop. "
   ]
  },
  {
   "cell_type": "code",
   "execution_count": 5,
   "metadata": {},
   "outputs": [],
   "source": [
    "# when you call k.update(reset=False), it will call update on the sub-kernels:\n",
    "k.update(reset=False)"
   ]
  },
  {
   "cell_type": "markdown",
   "metadata": {},
   "source": []
  },
  {
   "cell_type": "code",
   "execution_count": 6,
   "metadata": {},
   "outputs": [],
   "source": [
    "# through Device kernel, we get the controller that currently control the device and sample the new control setting from that controller\n",
    "# however, this control setting does not apply directly on the device\n",
    "# to apply the new control setting on the device, from Device kernel, call apply_control(device_id, control_setting)\n",
    "control_setting = k_device.get_controller(sample_device).get_action(env=None)\n",
    "k_device.apply_control(sample_device, control_setting)"
   ]
  },
  {
   "cell_type": "markdown",
   "metadata": {},
   "source": [
    "We instantiated kernel, get PyCIAR API to interact with OpenDSS, initialize PyCIGAR and run it 1 step forward manually. In the next section, we will learn how to automate this with PyCIGAR configurations file."
   ]
  },
  {
   "cell_type": "markdown",
   "metadata": {},
   "source": [
    "### PyCIGAR configurations file\n",
    "\n",
    "PyCIGAR configurations file define essential information to run a simulation (e.g. the directory of opendss file and load-solar profiles, list of installed devices at nodes,...). The configuration file for this tutorial [here](./data/pycigar_config.yaml).\n",
    "- `simulation_config`: contains information specific to opendss.\n",
    "- `scenario_config`: contrains the information about the installed devices and controllers. \n",
    "  - `network_data_directory`: directory to the load-solar profiles.\n",
    "  - `start_end_time`: list of start time and end time. This is the index number in load-solar profiles file `.csv`.  For example, if we want to run the experiment with load-solar profiles from line 100 to line 300, put here `[100, 300]`.\n",
    "  - `custom_configs`: contains additional parameters applied across the nodes.\n",
    "  - `nodes`: each node define by name (has to match with name in opendss in lowercase) and `devices` define the list of devices installed at that node. For the example below, node `s701a` has an PV inverter installed, the name of this device is `pv_1`. Whenever we have an device at a node, we also have an adversarial device of that device at the same node, the device identification is begin with `adversary`. For example in this case: `adversary_pv_1`. Hack is a list of \\[start_time, hack_percentage\\] or \\[start_time, hack_percentage, end_time\\].\n",
    "\n",
    "```yaml\n",
    "simulation_config:\n",
    "  network_model_directory: './data/ieee3.dss'\n",
    "  custom_configs:  {solution_mode: 1,\n",
    "                    solution_number: 1,\n",
    "                    solution_step_size: 1,\n",
    "                    solution_control_mode: -1,\n",
    "                    solution_max_control_iterations: 1000000,\n",
    "                    solution_max_iterations: 30000,\n",
    "                    power_factor: 0.9}\n",
    "\n",
    "scenario_config:\n",
    "  network_data_directory: './data/load_solar_data.csv'\n",
    "  start_end_time: [100, 500]\n",
    "  custom_configs: {load_scaling_factor: 1.5,\n",
    "                   solar_scaling_factor: 3,\n",
    "                   slack_bus_voltage: 1.04,\n",
    "                   load_generation_noise: False,\n",
    "                   power_factor: 0.9}\n",
    "\n",
    "  nodes:\n",
    "      - name: s701a\n",
    "        devices:\n",
    "            - name: pv_1\n",
    "              type: pv_device\n",
    "              controller: fixed_controller\n",
    "              custom_configs: {default_control_setting: [0.98, 1.01, 1.01, 1.04, 1.06],\n",
    "                               low_pass_filter_measure: 1.2,\n",
    "                               low_pass_filter_output: 0.115}\n",
    "              adversary_controller: fixed_controller\n",
    "              adversary_custom_configs: {default_control_setting: [1.014, 1.015, 1.015, 1.016, 1.017]}\n",
    "              hack: [300, 0.4]\n",
    "      - name: s702a\n",
    "\n",
    "      - name: s703a\n",
    "```\n",
    "\n",
    "Let's read `.yaml` file to `sim_params` and create the `Kernel` again, this time with `sim_params`."
   ]
  },
  {
   "cell_type": "code",
   "execution_count": 1,
   "metadata": {},
   "outputs": [],
   "source": [
    "from pycigar.core.kernel.kernel import Kernel\n",
    "import yaml\n",
    "\n",
    "stream = open(\"./data/pycigar_config.yaml\", \"r\")\n",
    "sim_params = yaml.safe_load(stream)\n",
    "\n",
    "k = Kernel(simulator=\"opendss\", sim_params=sim_params)\n",
    "kernel_api = k.simulation.start_simulation()\n",
    "k.pass_api(kernel_api)"
   ]
  },
  {
   "cell_type": "code",
   "execution_count": 2,
   "metadata": {},
   "outputs": [],
   "source": [
    "# this line initialize the experiment\n",
    "k.update(reset=True)\n",
    "# this line run experiment 1 step forward\n",
    "k.update(reset=False)"
   ]
  }
 ],
 "metadata": {
  "kernelspec": {
   "display_name": "Python 3.7.6 64-bit ('pycigar': conda)",
   "language": "python",
   "name": "python37664bitpycigarcondaa2083d76d007443d8f9fd78ed773e7a0"
  },
  "language_info": {
   "codemirror_mode": {
    "name": "ipython",
    "version": 3
   },
   "file_extension": ".py",
   "mimetype": "text/x-python",
   "name": "python",
   "nbconvert_exporter": "python",
   "pygments_lexer": "ipython3",
   "version": "3.7.6-final"
  }
 },
 "nbformat": 4,
 "nbformat_minor": 2
}