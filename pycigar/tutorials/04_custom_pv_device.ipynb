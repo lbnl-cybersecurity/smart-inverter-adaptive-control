{
 "cells": [
  {
   "cell_type": "code",
   "execution_count": 1,
   "metadata": {},
   "outputs": [
    {
     "output_type": "error",
     "ename": "ModuleNotFoundError",
     "evalue": "No module named 'pycigar.tutorials'",
     "traceback": [
      "\u001b[0;31m---------------------------------------------------------------------------\u001b[0m",
      "\u001b[0;31mModuleNotFoundError\u001b[0m                       Traceback (most recent call last)",
      "\u001b[0;32m<ipython-input-1-89ad914157c7>\u001b[0m in \u001b[0;36m<module>\u001b[0;34m\u001b[0m\n\u001b[1;32m      1\u001b[0m \u001b[0;32mimport\u001b[0m \u001b[0mpycigar\u001b[0m\u001b[0;34m\u001b[0m\u001b[0;34m\u001b[0m\u001b[0m\n\u001b[1;32m      2\u001b[0m \u001b[0;32mimport\u001b[0m \u001b[0mpandas\u001b[0m \u001b[0;32mas\u001b[0m \u001b[0mpd\u001b[0m\u001b[0;34m\u001b[0m\u001b[0;34m\u001b[0m\u001b[0m\n\u001b[0;32m----> 3\u001b[0;31m \u001b[0;32mfrom\u001b[0m \u001b[0mpycigar\u001b[0m\u001b[0;34m.\u001b[0m\u001b[0mtutorials\u001b[0m\u001b[0;34m.\u001b[0m\u001b[0mcustom_input_parser\u001b[0m \u001b[0;32mimport\u001b[0m \u001b[0minput_parser\u001b[0m\u001b[0;34m\u001b[0m\u001b[0;34m\u001b[0m\u001b[0m\n\u001b[0m",
      "\u001b[0;31mModuleNotFoundError\u001b[0m: No module named 'pycigar.tutorials'"
     ]
    }
   ],
   "source": [
    "import pycigar\n",
    "import pandas as pd\n",
    "from pycigar.tutorials.custom_input_parser import input_parser"
   ]
  },
  {
   "cell_type": "code",
   "execution_count": null,
   "metadata": {},
   "outputs": [],
   "source": [
    "from pycigar.utils.registry import register_devcon\n",
    "from pycigar.controllers.custom_adaptive_inverter_controller import CustomAdaptiveInverterController\n",
    "from pycigar.controllers.adaptive_inverter_controller import AdaptiveInverterController\n",
    "from pycigar.controllers.custom_hack_controller import CustomHackController\n",
    "from pycigar.controllers.fixed_controller import FixedController\n",
    "\n",
    "from pycigar.devices.custom_pv_inverter_device import CustomPVDevice"
   ]
  },
  {
   "cell_type": "code",
   "execution_count": null,
   "metadata": {},
   "outputs": [],
   "source": [
    "register_devcon('Attacker', CustomHackController)\n",
    "register_devcon('Defender', CustomAdaptiveInverterController)\n",
    "register_devcon('custom_pv_device', CustomPVDevice)\n",
    "\n"
   ]
  },
  {
   "cell_type": "code",
   "execution_count": null,
   "metadata": {},
   "outputs": [],
   "source": [
    "file_misc_inputs_path = pycigar.DATA_DIR + '/ieee37busdata/misc_inputs.csv'\n",
    "misc_inputs = pd.read_csv(pycigar.DATA_DIR + '/ieee37busdata/misc_inputs.csv', index_col=0, header=None, names=['parameter', 'value'])\n",
    "misc_inputs.value['hack start']=250\n",
    "misc_inputs.value['hack end']=2000\n",
    "misc_inputs.value['hack update']=200\n",
    "misc_inputs.value['measurement filter time constant mean']=1\n",
    "misc_inputs.value['measurement filter time constant avg v']=20\n",
    "misc_inputs.value['gamma']=0#0.001\n",
    "misc_inputs.value['k']=0\n",
    "#misc_inputs.Value['solar scaling factor']=1.5\n",
    "misc_inputs.to_csv(pycigar.DATA_DIR + '/ieee37busdata/misc_inputs.csv', header=None)\n",
    "\n",
    "hack=0.20"
   ]
  },
  {
   "cell_type": "code",
   "execution_count": null,
   "metadata": {},
   "outputs": [],
   "source": [
    "misc_inputs = pycigar.DATA_DIR + '/ieee37busdata/misc_inputs.csv'\n",
    "dss = pycigar.DATA_DIR + '/ieee37busdata/ieee37.dss'\n",
    "load_solar = pycigar.DATA_DIR + '/ieee37busdata/load_solar_data.csv'\n",
    "breakpoints = pycigar.DATA_DIR + '/ieee37busdata/breakpoints.csv'\n",
    "\n",
    "sim_params = input_parser(misc_inputs, dss, load_solar, breakpoints, benchmark=True, percentage_hack=hack, vectorized_mode=False)\n",
    "start = 100\n",
    "sim_params['scenario_config']['start_end_time'] = [start, start + 1500]  # fix the exp start and end time\n",
    "sim_params['env_config']['sims_per_step'] = 1 # on 1 step call, it is equal to 1 simulation step.\n",
    "del sim_params['attack_randomization'] # turn off the attack randomization\n",
    "\n",
    "from pycigar.envs.norl_env import NoRLEnv\n",
    "env = NoRLEnv(sim_params=sim_params) # init env with the sim_params above\n",
    "\n",
    "env.reset()\n",
    "done = False\n",
    "while not done:\n",
    "    done = env.step() # every step call will return done, the status whether the exp is finished or not"
   ]
  }
 ],
 "metadata": {
  "language_info": {
   "codemirror_mode": {
    "name": "ipython",
    "version": 3
   },
   "file_extension": ".py",
   "mimetype": "text/x-python",
   "name": "python",
   "nbconvert_exporter": "python",
   "pygments_lexer": "ipython3",
   "version": "3.7.6-final"
  },
  "orig_nbformat": 2,
  "kernelspec": {
   "name": "python37664bitpycigaradaptconda157feb0fecc748138fd2bdc9980d3f09",
   "display_name": "Python 3.7.6 64-bit ('pycigar-adapt': conda)"
  }
 },
 "nbformat": 4,
 "nbformat_minor": 2
}