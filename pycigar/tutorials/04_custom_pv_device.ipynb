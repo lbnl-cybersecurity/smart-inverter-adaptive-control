{
 "cells": [
  {
   "cell_type": "code",
   "execution_count": 1,
   "metadata": {},
   "outputs": [],
   "source": [
    "import pycigar\n",
    "import pandas as pd\n",
    "from pycigar.tutorials.custom_input_parser import input_parser"
   ]
  },
  {
   "cell_type": "code",
   "execution_count": 2,
   "metadata": {},
   "outputs": [],
   "source": [
    "from pycigar.utils.registry import register_devcon\n",
    "from pycigar.controllers.custom_adaptive_inverter_controller import CustomAdaptiveInverterController\n",
    "from pycigar.controllers.adaptive_inverter_controller import AdaptiveInverterController\n",
    "from pycigar.controllers.custom_hack_controller import CustomHackController\n",
    "from pycigar.controllers.fixed_controller import FixedController\n",
    "\n",
    "from pycigar.devices.custom_pv_inverter_device import CustomPVDevice"
   ]
  },
  {
   "cell_type": "code",
   "execution_count": 3,
   "metadata": {},
   "outputs": [
    {
     "output_type": "execute_result",
     "data": {
      "text/plain": "'custom_pv_device'"
     },
     "metadata": {},
     "execution_count": 3
    }
   ],
   "source": [
    "register_devcon('Attacker', CustomHackController)\n",
    "register_devcon('Defender', CustomAdaptiveInverterController)\n",
    "register_devcon('custom_pv_device', CustomPVDevice)\n",
    "\n"
   ]
  },
  {
   "cell_type": "code",
   "execution_count": 4,
   "metadata": {},
   "outputs": [],
   "source": [
    "file_misc_inputs_path = pycigar.DATA_DIR + '/ieee37busdata/misc_inputs.csv'\n",
    "misc_inputs = pd.read_csv(pycigar.DATA_DIR + '/ieee37busdata/misc_inputs.csv', index_col=0, header=None, names=['parameter', 'value'])\n",
    "misc_inputs.value['hack start']=250\n",
    "misc_inputs.value['hack end']=2000\n",
    "misc_inputs.value['hack update']=200\n",
    "misc_inputs.value['measurement filter time constant mean']=1\n",
    "misc_inputs.value['measurement filter time constant avg v']=20\n",
    "misc_inputs.value['gamma']=0#0.001\n",
    "misc_inputs.value['k']=0\n",
    "#misc_inputs.Value['solar scaling factor']=1.5\n",
    "misc_inputs.to_csv(pycigar.DATA_DIR + '/ieee37busdata/misc_inputs.csv', header=None)\n",
    "\n",
    "hack=0.0"
   ]
  },
  {
   "cell_type": "code",
   "execution_count": 5,
   "metadata": {},
   "outputs": [],
   "source": [
    "misc_inputs = pycigar.DATA_DIR + '/ieee37busdata/misc_inputs.csv'\n",
    "dss = pycigar.DATA_DIR + '/ieee37busdata/ieee37.dss'\n",
    "load_solar = pycigar.DATA_DIR + '/ieee37busdata/load_solar_data.csv'\n",
    "breakpoints = pycigar.DATA_DIR + '/ieee37busdata/breakpoints.csv'\n",
    "\n",
    "sim_params = input_parser(misc_inputs, dss, load_solar, breakpoints, benchmark=True, percentage_hack=hack, vectorized_mode=False)\n",
    "start = 100\n",
    "sim_params['scenario_config']['start_end_time'] = [start, start + 1500]  # fix the exp start and end time\n",
    "sim_params['env_config']['sims_per_step'] = 1 # on 1 step call, it is equal to 1 simulation step.\n",
    "del sim_params['attack_randomization'] # turn off the attack randomization\n",
    "\n",
    "from pycigar.envs.norl_env import NoRLEnv\n",
    "env = NoRLEnv(sim_params=sim_params) # init env with the sim_params above\n",
    "\n",
    "env.reset()\n",
    "done = False\n",
    "while not done:\n",
    "    done = env.step() # every step call will return done, the status whether the exp is finished or not"
   ]
  },
  {
   "cell_type": "code",
   "execution_count": 9,
   "metadata": {},
   "outputs": [
    {
     "output_type": "execute_result",
     "data": {
      "text/plain": "['inverter_s701a',\n 'adversary_inverter_s701a',\n 'inverter_s701b',\n 'adversary_inverter_s701b',\n 'inverter_s701c',\n 'adversary_inverter_s701c',\n 'inverter_s712c',\n 'adversary_inverter_s712c',\n 'inverter_s713c',\n 'adversary_inverter_s713c',\n 'inverter_s714a',\n 'adversary_inverter_s714a',\n 'inverter_s714b',\n 'adversary_inverter_s714b',\n 'inverter_s718a',\n 'adversary_inverter_s718a',\n 'inverter_s720c',\n 'adversary_inverter_s720c',\n 'inverter_s722b',\n 'adversary_inverter_s722b',\n 'inverter_s722c',\n 'adversary_inverter_s722c',\n 'inverter_s724b',\n 'adversary_inverter_s724b',\n 'inverter_s725b',\n 'adversary_inverter_s725b',\n 'inverter_s727c',\n 'adversary_inverter_s727c',\n 'inverter_s728',\n 'adversary_inverter_s728',\n 'inverter_s729a',\n 'adversary_inverter_s729a',\n 'inverter_s730c',\n 'adversary_inverter_s730c',\n 'inverter_s731b',\n 'adversary_inverter_s731b',\n 'inverter_s732c',\n 'adversary_inverter_s732c',\n 'inverter_s733a',\n 'adversary_inverter_s733a',\n 'inverter_s734c',\n 'adversary_inverter_s734c',\n 'inverter_s735c',\n 'adversary_inverter_s735c',\n 'inverter_s736b',\n 'adversary_inverter_s736b',\n 'inverter_s737a',\n 'adversary_inverter_s737a',\n 'inverter_s738a',\n 'adversary_inverter_s738a',\n 'inverter_s740c',\n 'adversary_inverter_s740c',\n 'inverter_s741c',\n 'adversary_inverter_s741c',\n 'inverter_s742a',\n 'adversary_inverter_s742a',\n 'inverter_s742b',\n 'adversary_inverter_s742b',\n 'inverter_s744a',\n 'adversary_inverter_s744a']"
     },
     "metadata": {},
     "execution_count": 9
    }
   ],
   "source": [
    "env.k.device.device_ids['pv_device']"
   ]
  },
  {
   "cell_type": "code",
   "execution_count": null,
   "metadata": {},
   "outputs": [],
   "source": []
  }
 ],
 "metadata": {
  "language_info": {
   "codemirror_mode": {
    "name": "ipython",
    "version": 3
   },
   "file_extension": ".py",
   "mimetype": "text/x-python",
   "name": "python",
   "nbconvert_exporter": "python",
   "pygments_lexer": "ipython3",
   "version": "3.7.6-final"
  },
  "orig_nbformat": 2,
  "kernelspec": {
   "name": "python37664bitpycigaradaptconda157feb0fecc748138fd2bdc9980d3f09",
   "display_name": "Python 3.7.6 64-bit ('pycigar-adapt': conda)"
  }
 },
 "nbformat": 4,
 "nbformat_minor": 2
}