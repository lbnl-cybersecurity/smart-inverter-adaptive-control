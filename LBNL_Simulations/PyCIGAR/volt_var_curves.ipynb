{
 "cells": [
  {
   "cell_type": "code",
   "execution_count": 21,
   "metadata": {},
   "outputs": [],
   "source": [
    "import matplotlib.pyplot as plt\n",
    "import pandas as pd\n",
    "import numpy as np\n",
    "%matplotlib inline"
   ]
  },
  {
   "cell_type": "code",
   "execution_count": 10,
   "metadata": {
    "collapsed": true
   },
   "outputs": [],
   "source": [
    "voltages = np.linspace(0.90, 1.1, 1001)"
   ]
  },
  {
   "cell_type": "code",
   "execution_count": 57,
   "metadata": {},
   "outputs": [],
   "source": [
    "attack_curve=np.concatenate((np.repeat(0.5,495),np.linspace(0.5, -0.5, 11),np.repeat(-0.5,495)))\n",
    "default_curve=np.concatenate((np.repeat(0.5,300),np.linspace(0.5, -0.5, 401),np.repeat(-0.5,300)))\n",
    "translate_curve=np.concatenate((np.repeat(0.5,100),np.linspace(0.5, -0.5, 301),np.repeat(-0.5,600)))\n",
    "sum_default = attack_curve+default_curve\n",
    "sum_translate = attack_curve+translate_curve"
   ]
  },
  {
   "cell_type": "code",
   "execution_count": 66,
   "metadata": {},
   "outputs": [
    {
     "data": {
      "text/plain": [
       "[<matplotlib.lines.Line2D at 0x282bc49e3c8>]"
      ]
     },
     "execution_count": 66,
     "metadata": {},
     "output_type": "execute_result"
    },
    {
     "data": {
      "image/png": "[encoded data removed]",
      "text/plain": [
       "<Figure size 432x288 with 1 Axes>"
      ]
     },
     "metadata": {},
     "output_type": "display_data"
    }
   ],
   "source": [
    "#plt.plot(voltages,attack_curve)\n",
    "#plt.plot(voltages,default_curve)\n",
    "plt.plot(voltages, sum_default)\n",
    "plt.plot(voltages, sum_translate)"
   ]
  },
  {
   "cell_type": "code",
   "execution_count": 60,
   "metadata": {},
   "outputs": [],
   "source": [
    "curves = pd.DataFrame(attack_curve,columns=['Attack'])"
   ]
  },
  {
   "cell_type": "code",
   "execution_count": 63,
   "metadata": {},
   "outputs": [],
   "source": [
    "curves['Stretch']=default_curve\n",
    "curves['Stretch_sum']=sum_default\n",
    "curves['Translate']=translate_curve\n",
    "curves['Translate_sum']=sum_translate\n",
    "curves['Voltage']=voltages"
   ]
  },
  {
   "cell_type": "code",
   "execution_count": 65,
   "metadata": {},
   "outputs": [],
   "source": [
    "curves.to_csv('tikz_curves.csv',index=False)"
   ]
  },
  {
   "cell_type": "code",
   "execution_count": null,
   "metadata": {
    "collapsed": true
   },
   "outputs": [],
   "source": []
  }
 ],
 "metadata": {
  "kernelspec": {
   "display_name": "Python 3",
   "language": "python",
   "name": "python3"
  },
  "language_info": {
   "codemirror_mode": {
    "name": "ipython",
    "version": 3
   },
   "file_extension": ".py",
   "mimetype": "text/x-python",
   "name": "python",
   "nbconvert_exporter": "python",
   "pygments_lexer": "ipython3",
   "version": "3.6.3"
  }
 },
 "nbformat": 4,
 "nbformat_minor": 2
}
